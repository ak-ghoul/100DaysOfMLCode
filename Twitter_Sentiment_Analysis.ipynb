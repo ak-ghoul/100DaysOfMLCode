{
  "nbformat": 4,
  "nbformat_minor": 0,
  "metadata": {
    "colab": {
      "name": "Twitter_Sentiment_Analysis.ipynb",
      "version": "0.3.2",
      "provenance": [],
      "include_colab_link": true
    },
    "kernelspec": {
      "name": "python3",
      "display_name": "Python 3"
    }
  },
  "cells": [
    {
      "cell_type": "markdown",
      "metadata": {
        "id": "view-in-github",
        "colab_type": "text"
      },
      "source": [
        "<a href=\"https://colab.research.google.com/github/ak-ghoul/100DaysOfMLCode/blob/master/Twitter_Sentiment_Analysis.ipynb\" target=\"_parent\"><img src=\"https://colab.research.google.com/assets/colab-badge.svg\" alt=\"Open In Colab\"/></a>"
      ]
    },
    {
      "metadata": {
        "id": "2ZqX0DAiRHJa",
        "colab_type": "text"
      },
      "cell_type": "markdown",
      "source": [
        "# Twitter Sentiment Analysis\n",
        "\n",
        "A twitter API is used to extract the current tweets of a certain person using tweepy library & textblob library does the sentiment analysis"
      ]
    },
    {
      "metadata": {
        "id": "CDnjaWQ98fPy",
        "colab_type": "code",
        "outputId": "b5c76949-d650-4699-9c71-5f4d6ce03b23",
        "colab": {
          "base_uri": "https://localhost:8080/",
          "height": 799
        }
      },
      "cell_type": "code",
      "source": [
        "import tweepy\n",
        "from textblob import TextBlob\n",
        "consumer_key ='StAbPhP0UpIrfigBnKLnd33z8'\n",
        "consumer_secret = 'UKuOEZZuB5hohA0qyiHNYn0hzF3ghqllSL2tm0NcH8i6RK1Hja'\n",
        "\n",
        "access_token ='1023641504416288768-zYth68aCdS2BNol7WGWvqgwYAS8L3C'\n",
        "access_secret ='WVYihKvQ5OAYR4Aso6fovEXeQ7YINoUgbe8gWk0N37eED'\n",
        "auth = tweepy.OAuthHandler(consumer_key,consumer_secret)\n",
        "auth.set_access_token(access_token, access_secret)\n",
        "\n",
        "api = tweepy.API(auth)\n",
        "tweets = api.search('Pewdiepie')\n",
        "\n",
        "for i in tweets:\n",
        "  print(i.text)\n",
        "  analysis= TextBlob(i.text)\n",
        "  print(analysis.sentiment)"
      ],
      "execution_count": 0,
      "outputs": [
        {
          "output_type": "stream",
          "text": [
            "subscribe to pewdiepie — subscribe to tseries https://t.co/MDyRVMmpLn\n",
            "Sentiment(polarity=0.0, subjectivity=0.0)\n",
            "My hair is bad \n",
            "I am not sad \n",
            "Subscribe to PewDiePie https://t.co/APSgKMJEfB\n",
            "Sentiment(polarity=-0.22499999999999992, subjectivity=0.8333333333333333)\n",
            "@seanseaevans GET @pewdiepie ON HOT ONES #getpewdsonhotones\n",
            "Sentiment(polarity=0.25, subjectivity=0.8500000000000001)\n",
            "RT @cryptochamomile: Pewdiepie's \"Pew News\" videos are watched by more people than any of the top news shows. Pewdiepie is the #1 trusted n…\n",
            "Sentiment(polarity=0.5, subjectivity=0.5)\n",
            "@PurpsIsCool Best pewdiepie gif ever \n",
            "I wanted to find a meme review clapping clip..\n",
            "But this is better!\n",
            "Sentiment(polarity=0.8125, subjectivity=0.4)\n",
            "@YTCreators pewdiepie\n",
            "Sentiment(polarity=0.0, subjectivity=0.0)\n",
            "RT @Potatoster: Who should you subscribe to?\n",
            " \n",
            "Like for Ariana Grande\n",
            "Retweet for PewDiePie https://t.co/UOTc89d4zx\n",
            "Sentiment(polarity=0.0, subjectivity=0.0)\n",
            "RT @cryptochamomile: While you're here, subscribe to pewdiepie on youtube.\n",
            "Sentiment(polarity=0.0, subjectivity=0.0)\n",
            "RT @MrBeastYT: I supported Pewdiepie before it was cool. #LookAtMeImSoCool\n",
            "\n",
            "https://t.co/1WicFEWA43\n",
            "Sentiment(polarity=0.35, subjectivity=0.65)\n",
            "RT @MrBeastYT: I supported Pewdiepie before it was cool. #LookAtMeImSoCool\n",
            "\n",
            "https://t.co/1WicFEWA43\n",
            "Sentiment(polarity=0.35, subjectivity=0.65)\n",
            "RT @cryptochamomile: Pewdiepie's \"Pew News\" videos are watched by more people than any of the top news shows. Pewdiepie is the #1 trusted n…\n",
            "Sentiment(polarity=0.5, subjectivity=0.5)\n",
            "RT @cryptochamomile: Pewdiepie's \"Pew News\" videos are watched by more people than any of the top news shows. Pewdiepie is the #1 trusted n…\n",
            "Sentiment(polarity=0.5, subjectivity=0.5)\n",
            "@MrAugistoes Subscribe to @pewdiepie\n",
            "Sentiment(polarity=0.0, subjectivity=0.0)\n",
            "REGALO COFRES DE MI CANAL DE TWITCH A QUIEN SE SUSCRIBA A @pewdiepie en YT \n",
            "https://t.co/8v4ETi7tyt\n",
            "Sentiment(polarity=0.0, subjectivity=0.0)\n",
            "Hola\n",
            "\n",
            "Me encanta el merchandising de pewdiepie por sus 80 millones de subs y no lo puedo comprar por esta pobreza que me consume.\n",
            "\n",
            "Chao\n",
            "Sentiment(polarity=0.0, subjectivity=0.0)\n"
          ],
          "name": "stdout"
        }
      ]
    }
  ]
}