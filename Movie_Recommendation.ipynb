{
  "nbformat": 4,
  "nbformat_minor": 0,
  "metadata": {
    "colab": {
      "name": "Movie_Recommendation.ipynb",
      "version": "0.3.2",
      "provenance": [],
      "include_colab_link": true
    },
    "kernelspec": {
      "name": "python3",
      "display_name": "Python 3"
    }
  },
  "cells": [
    {
      "cell_type": "markdown",
      "metadata": {
        "id": "view-in-github",
        "colab_type": "text"
      },
      "source": [
        "<a href=\"https://colab.research.google.com/github/ak-ghoul/100DaysOfMLCode/blob/master/Movie_Recommendation.ipynb\" target=\"_parent\"><img src=\"https://colab.research.google.com/assets/colab-badge.svg\" alt=\"Open In Colab\"/></a>"
      ]
    },
    {
      "metadata": {
        "id": "1ZCivmp0IGvP",
        "colab_type": "code",
        "colab": {
          "base_uri": "https://localhost:8080/",
          "height": 328
        },
        "outputId": "fbd5f792-ce8b-44a9-9cd9-3f7bbbae46c1"
      },
      "cell_type": "code",
      "source": [
        "!pip install lightfm"
      ],
      "execution_count": 7,
      "outputs": [
        {
          "output_type": "stream",
          "text": [
            "Collecting lightfm\n",
            "\u001b[?25l  Downloading https://files.pythonhosted.org/packages/e9/8e/5485ac5a8616abe1c673d1e033e2f232b4319ab95424b42499fabff2257f/lightfm-1.15.tar.gz (302kB)\n",
            "\u001b[K    100% |████████████████████████████████| 307kB 7.0MB/s \n",
            "\u001b[?25hRequirement already satisfied: numpy in /usr/local/lib/python3.6/dist-packages (from lightfm) (1.14.6)\n",
            "Requirement already satisfied: scipy>=0.17.0 in /usr/local/lib/python3.6/dist-packages (from lightfm) (1.1.0)\n",
            "Requirement already satisfied: requests in /usr/local/lib/python3.6/dist-packages (from lightfm) (2.18.4)\n",
            "Requirement already satisfied: urllib3<1.23,>=1.21.1 in /usr/local/lib/python3.6/dist-packages (from requests->lightfm) (1.22)\n",
            "Requirement already satisfied: chardet<3.1.0,>=3.0.2 in /usr/local/lib/python3.6/dist-packages (from requests->lightfm) (3.0.4)\n",
            "Requirement already satisfied: idna<2.7,>=2.5 in /usr/local/lib/python3.6/dist-packages (from requests->lightfm) (2.6)\n",
            "Requirement already satisfied: certifi>=2017.4.17 in /usr/local/lib/python3.6/dist-packages (from requests->lightfm) (2018.11.29)\n",
            "Building wheels for collected packages: lightfm\n",
            "  Building wheel for lightfm (setup.py) ... \u001b[?25ldone\n",
            "\u001b[?25h  Stored in directory: /root/.cache/pip/wheels/eb/bb/ac/188385a5da6627956be5d9663928483b36da576149ab5b8f79\n",
            "Successfully built lightfm\n",
            "Installing collected packages: lightfm\n",
            "Successfully installed lightfm-1.15\n"
          ],
          "name": "stdout"
        }
      ]
    },
    {
      "metadata": {
        "id": "m_hTCmBcI8A7",
        "colab_type": "code",
        "colab": {}
      },
      "cell_type": "code",
      "source": [
        "import numpy as np\n",
        "import pandas as pd\n",
        "from lightfm.datasets import fetch_movielens"
      ],
      "execution_count": 0,
      "outputs": []
    },
    {
      "metadata": {
        "id": "uTvHC2MmKBBt",
        "colab_type": "code",
        "colab": {}
      },
      "cell_type": "code",
      "source": [
        "from lightfm import LightFM"
      ],
      "execution_count": 0,
      "outputs": []
    },
    {
      "metadata": {
        "id": "QwD3cb0qKO6g",
        "colab_type": "code",
        "colab": {}
      },
      "cell_type": "code",
      "source": [
        "data = fetch_movielens(min_rating=4.0)"
      ],
      "execution_count": 0,
      "outputs": []
    },
    {
      "metadata": {
        "id": "KD9eLH4OTFkg",
        "colab_type": "code",
        "colab": {
          "base_uri": "https://localhost:8080/",
          "height": 198
        },
        "outputId": "69f05502-a95b-4a87-8504-6b0fd6306adb"
      },
      "cell_type": "code",
      "source": [
        "data_p = pd.DataFrame(data)\n",
        "data_p.head()"
      ],
      "execution_count": 18,
      "outputs": [
        {
          "output_type": "execute_result",
          "data": {
            "text/html": [
              "<div>\n",
              "<style scoped>\n",
              "    .dataframe tbody tr th:only-of-type {\n",
              "        vertical-align: middle;\n",
              "    }\n",
              "\n",
              "    .dataframe tbody tr th {\n",
              "        vertical-align: top;\n",
              "    }\n",
              "\n",
              "    .dataframe thead th {\n",
              "        text-align: right;\n",
              "    }\n",
              "</style>\n",
              "<table border=\"1\" class=\"dataframe\">\n",
              "  <thead>\n",
              "    <tr style=\"text-align: right;\">\n",
              "      <th></th>\n",
              "      <th>item_feature_labels</th>\n",
              "      <th>item_features</th>\n",
              "      <th>item_labels</th>\n",
              "      <th>test</th>\n",
              "      <th>train</th>\n",
              "    </tr>\n",
              "  </thead>\n",
              "  <tbody>\n",
              "    <tr>\n",
              "      <th>0</th>\n",
              "      <td>Toy Story (1995)</td>\n",
              "      <td>(0, 0)\\t1.0\\n  (1, 1)\\t1.0\\n  (2, 2)\\t1.0\\n ...</td>\n",
              "      <td>Toy Story (1995)</td>\n",
              "      <td>(0, 19)\\t4\\n  (0, 32)\\t4\\n  (0, 60)\\t4\\n  (0...</td>\n",
              "      <td>(0, 0)\\t5.0\\n  (0, 2)\\t4.0\\n  (0, 5)\\t5.0\\n ...</td>\n",
              "    </tr>\n",
              "    <tr>\n",
              "      <th>1</th>\n",
              "      <td>GoldenEye (1995)</td>\n",
              "      <td>(0, 0)\\t1.0\\n  (1, 1)\\t1.0\\n  (2, 2)\\t1.0\\n ...</td>\n",
              "      <td>GoldenEye (1995)</td>\n",
              "      <td>(0, 19)\\t4\\n  (0, 32)\\t4\\n  (0, 60)\\t4\\n  (0...</td>\n",
              "      <td>(0, 0)\\t5.0\\n  (0, 2)\\t4.0\\n  (0, 5)\\t5.0\\n ...</td>\n",
              "    </tr>\n",
              "    <tr>\n",
              "      <th>2</th>\n",
              "      <td>Four Rooms (1995)</td>\n",
              "      <td>(0, 0)\\t1.0\\n  (1, 1)\\t1.0\\n  (2, 2)\\t1.0\\n ...</td>\n",
              "      <td>Four Rooms (1995)</td>\n",
              "      <td>(0, 19)\\t4\\n  (0, 32)\\t4\\n  (0, 60)\\t4\\n  (0...</td>\n",
              "      <td>(0, 0)\\t5.0\\n  (0, 2)\\t4.0\\n  (0, 5)\\t5.0\\n ...</td>\n",
              "    </tr>\n",
              "    <tr>\n",
              "      <th>3</th>\n",
              "      <td>Get Shorty (1995)</td>\n",
              "      <td>(0, 0)\\t1.0\\n  (1, 1)\\t1.0\\n  (2, 2)\\t1.0\\n ...</td>\n",
              "      <td>Get Shorty (1995)</td>\n",
              "      <td>(0, 19)\\t4\\n  (0, 32)\\t4\\n  (0, 60)\\t4\\n  (0...</td>\n",
              "      <td>(0, 0)\\t5.0\\n  (0, 2)\\t4.0\\n  (0, 5)\\t5.0\\n ...</td>\n",
              "    </tr>\n",
              "    <tr>\n",
              "      <th>4</th>\n",
              "      <td>Copycat (1995)</td>\n",
              "      <td>(0, 0)\\t1.0\\n  (1, 1)\\t1.0\\n  (2, 2)\\t1.0\\n ...</td>\n",
              "      <td>Copycat (1995)</td>\n",
              "      <td>(0, 19)\\t4\\n  (0, 32)\\t4\\n  (0, 60)\\t4\\n  (0...</td>\n",
              "      <td>(0, 0)\\t5.0\\n  (0, 2)\\t4.0\\n  (0, 5)\\t5.0\\n ...</td>\n",
              "    </tr>\n",
              "  </tbody>\n",
              "</table>\n",
              "</div>"
            ],
            "text/plain": [
              "  item_feature_labels                                      item_features  \\\n",
              "0    Toy Story (1995)    (0, 0)\\t1.0\\n  (1, 1)\\t1.0\\n  (2, 2)\\t1.0\\n ...   \n",
              "1    GoldenEye (1995)    (0, 0)\\t1.0\\n  (1, 1)\\t1.0\\n  (2, 2)\\t1.0\\n ...   \n",
              "2   Four Rooms (1995)    (0, 0)\\t1.0\\n  (1, 1)\\t1.0\\n  (2, 2)\\t1.0\\n ...   \n",
              "3   Get Shorty (1995)    (0, 0)\\t1.0\\n  (1, 1)\\t1.0\\n  (2, 2)\\t1.0\\n ...   \n",
              "4      Copycat (1995)    (0, 0)\\t1.0\\n  (1, 1)\\t1.0\\n  (2, 2)\\t1.0\\n ...   \n",
              "\n",
              "         item_labels                                               test  \\\n",
              "0   Toy Story (1995)    (0, 19)\\t4\\n  (0, 32)\\t4\\n  (0, 60)\\t4\\n  (0...   \n",
              "1   GoldenEye (1995)    (0, 19)\\t4\\n  (0, 32)\\t4\\n  (0, 60)\\t4\\n  (0...   \n",
              "2  Four Rooms (1995)    (0, 19)\\t4\\n  (0, 32)\\t4\\n  (0, 60)\\t4\\n  (0...   \n",
              "3  Get Shorty (1995)    (0, 19)\\t4\\n  (0, 32)\\t4\\n  (0, 60)\\t4\\n  (0...   \n",
              "4     Copycat (1995)    (0, 19)\\t4\\n  (0, 32)\\t4\\n  (0, 60)\\t4\\n  (0...   \n",
              "\n",
              "                                               train  \n",
              "0    (0, 0)\\t5.0\\n  (0, 2)\\t4.0\\n  (0, 5)\\t5.0\\n ...  \n",
              "1    (0, 0)\\t5.0\\n  (0, 2)\\t4.0\\n  (0, 5)\\t5.0\\n ...  \n",
              "2    (0, 0)\\t5.0\\n  (0, 2)\\t4.0\\n  (0, 5)\\t5.0\\n ...  \n",
              "3    (0, 0)\\t5.0\\n  (0, 2)\\t4.0\\n  (0, 5)\\t5.0\\n ...  \n",
              "4    (0, 0)\\t5.0\\n  (0, 2)\\t4.0\\n  (0, 5)\\t5.0\\n ...  "
            ]
          },
          "metadata": {
            "tags": []
          },
          "execution_count": 18
        }
      ]
    },
    {
      "metadata": {
        "id": "cOJ0gd6ZKjrC",
        "colab_type": "code",
        "colab": {
          "base_uri": "https://localhost:8080/",
          "height": 183
        },
        "outputId": "0d4d8d17-ef8b-4132-86eb-eb62e8545ca6"
      },
      "cell_type": "code",
      "source": [
        "print(data)"
      ],
      "execution_count": 11,
      "outputs": [
        {
          "output_type": "stream",
          "text": [
            "{'train': <943x1682 sparse matrix of type '<class 'numpy.int32'>'\n",
            "\twith 49906 stored elements in COOrdinate format>, 'test': <943x1682 sparse matrix of type '<class 'numpy.int32'>'\n",
            "\twith 5469 stored elements in COOrdinate format>, 'item_features': <1682x1682 sparse matrix of type '<class 'numpy.float32'>'\n",
            "\twith 1682 stored elements in Compressed Sparse Row format>, 'item_feature_labels': array(['Toy Story (1995)', 'GoldenEye (1995)', 'Four Rooms (1995)', ...,\n",
            "       'Sliding Doors (1998)', 'You So Crazy (1994)',\n",
            "       'Scream of Stone (Schrei aus Stein) (1991)'], dtype=object), 'item_labels': array(['Toy Story (1995)', 'GoldenEye (1995)', 'Four Rooms (1995)', ...,\n",
            "       'Sliding Doors (1998)', 'You So Crazy (1994)',\n",
            "       'Scream of Stone (Schrei aus Stein) (1991)'], dtype=object)}\n"
          ],
          "name": "stdout"
        }
      ]
    },
    {
      "metadata": {
        "id": "RH_g2d1jKoIF",
        "colab_type": "code",
        "colab": {
          "base_uri": "https://localhost:8080/",
          "height": 90
        },
        "outputId": "2f70b1d2-72ea-483e-80ac-773424dffed8"
      },
      "cell_type": "code",
      "source": [
        "print(repr(data['train']))   #repr returns a printable representation\n",
        "print(repr(data['test']))"
      ],
      "execution_count": 13,
      "outputs": [
        {
          "output_type": "stream",
          "text": [
            "<943x1682 sparse matrix of type '<class 'numpy.int32'>'\n",
            "\twith 49906 stored elements in COOrdinate format>\n",
            "<943x1682 sparse matrix of type '<class 'numpy.int32'>'\n",
            "\twith 5469 stored elements in COOrdinate format>\n"
          ],
          "name": "stdout"
        }
      ]
    },
    {
      "metadata": {
        "id": "KHYcbOm1Kx8P",
        "colab_type": "code",
        "colab": {}
      },
      "cell_type": "code",
      "source": [
        "model = LightFM(loss='warp')"
      ],
      "execution_count": 0,
      "outputs": []
    },
    {
      "metadata": {
        "id": "jBdBtyvCLvMu",
        "colab_type": "code",
        "colab": {
          "base_uri": "https://localhost:8080/",
          "height": 35
        },
        "outputId": "d185e421-7685-4ac3-c7ee-e7d10e44231c"
      },
      "cell_type": "code",
      "source": [
        "model.fit(data['train'], epochs = 100, num_threads = 2)  #passing training data to fit model number of times epochs r mentioned"
      ],
      "execution_count": 16,
      "outputs": [
        {
          "output_type": "execute_result",
          "data": {
            "text/plain": [
              "<lightfm.lightfm.LightFM at 0x7fc2846cfcc0>"
            ]
          },
          "metadata": {
            "tags": []
          },
          "execution_count": 16
        }
      ]
    },
    {
      "metadata": {
        "id": "nD-qo_V5MaMU",
        "colab_type": "code",
        "colab": {}
      },
      "cell_type": "code",
      "source": [
        "def sample_recommendations(model, data, user_ids):\n",
        "  \n",
        "  #number of users & items in training data\n",
        "  n_users, n_items = data['train'].shape\n",
        "  \n",
        "  #generate recommendation for each user we input\n",
        "  for user_id in user_ids:\n",
        "    \n",
        "    #movies they already like\n",
        "    positivities = data['item_labels'][data['train'].tocsr()[user_id].indices]  #created a new column item_indices in data\n",
        "    \n",
        "    #predict\n",
        "    pr = model.predict(user_id, np.arange(n_items))\n",
        "    \n",
        "    top_items = data['item_labels'][np.argsort(-pr)]\n",
        "    \n",
        "    print(\"User \",user_id)\n",
        "    print(\"Known Positivities\")\n",
        "    \n",
        "    for i in positivities[:3]:\n",
        "      print(\"\\t\\t\",i)\n",
        "    print(\"Recommended:\")\n",
        "    for i in top_items[:3]:\n",
        "      print(\"\\t\",i)      "
      ],
      "execution_count": 0,
      "outputs": []
    },
    {
      "metadata": {
        "id": "FjYHjFTkVDPo",
        "colab_type": "code",
        "colab": {
          "base_uri": "https://localhost:8080/",
          "height": 508
        },
        "outputId": "aa99ae3a-37a5-41b9-866c-e71e1fe671d8"
      },
      "cell_type": "code",
      "source": [
        "sample_recommendations(model,data, [3,9,99])"
      ],
      "execution_count": 24,
      "outputs": [
        {
          "output_type": "stream",
          "text": [
            "User  3\n",
            "Known Positivities\n",
            "\t\t Seven (Se7en) (1995)\n",
            "\t\t Contact (1997)\n",
            "\t\t Starship Troopers (1997)\n",
            "Recommended:\n",
            "\t Boogie Nights (1997)\n",
            "\t Scream (1996)\n",
            "\t Spawn (1997)\n",
            "User  9\n",
            "Known Positivities\n",
            "\t\t Toy Story (1995)\n",
            "\t\t Get Shorty (1995)\n",
            "\t\t Dead Man Walking (1995)\n",
            "Recommended:\n",
            "\t One Flew Over the Cuckoo's Nest (1975)\n",
            "\t Godfather, The (1972)\n",
            "\t Shawshank Redemption, The (1994)\n",
            "User  99\n",
            "Known Positivities\n",
            "\t\t Contact (1997)\n",
            "\t\t Full Monty, The (1997)\n",
            "\t\t Good Will Hunting (1997)\n",
            "Recommended:\n",
            "\t As Good As It Gets (1997)\n",
            "\t Apt Pupil (1998)\n",
            "\t Good Will Hunting (1997)\n"
          ],
          "name": "stdout"
        }
      ]
    },
    {
      "metadata": {
        "id": "-Z_mkPIEVKhB",
        "colab_type": "code",
        "colab": {}
      },
      "cell_type": "code",
      "source": [
        ""
      ],
      "execution_count": 0,
      "outputs": []
    }
  ]
}