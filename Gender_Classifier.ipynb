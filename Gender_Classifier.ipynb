{
  "nbformat": 4,
  "nbformat_minor": 0,
  "metadata": {
    "colab": {
      "name": "Gender_Classifier.ipynb",
      "version": "0.3.2",
      "provenance": [],
      "include_colab_link": true
    },
    "kernelspec": {
      "name": "python3",
      "display_name": "Python 3"
    }
  },
  "cells": [
    {
      "cell_type": "markdown",
      "metadata": {
        "id": "view-in-github",
        "colab_type": "text"
      },
      "source": [
        "<a href=\"https://colab.research.google.com/github/ak-ghoul/100DaysOfMLCode/blob/master/Gender_Classifier.ipynb\" target=\"_parent\"><img src=\"https://colab.research.google.com/assets/colab-badge.svg\" alt=\"Open In Colab\"/></a>"
      ]
    },
    {
      "metadata": {
        "id": "T8wBiFORQlWK",
        "colab_type": "text"
      },
      "cell_type": "markdown",
      "source": [
        "# Gender Classifier\n",
        "\n",
        "Based on the height, weight & shoe size, these simple sklearn libraries fit & predict the gender of the person."
      ]
    },
    {
      "metadata": {
        "id": "WyYNBRz85L9H",
        "colab_type": "code",
        "colab": {}
      },
      "cell_type": "code",
      "source": [
        "from sklearn import tree"
      ],
      "execution_count": 0,
      "outputs": []
    },
    {
      "metadata": {
        "id": "hwF8H8lIZJqs",
        "colab_type": "text"
      },
      "cell_type": "markdown",
      "source": [
        "### Using Decision Tree Classifier"
      ]
    },
    {
      "metadata": {
        "id": "XTH6oIS45htA",
        "colab_type": "code",
        "outputId": "bc1501db-c804-476d-823a-bfe1097694e6",
        "colab": {
          "base_uri": "https://localhost:8080/",
          "height": 34
        }
      },
      "cell_type": "code",
      "source": [
        "x=[[181,80,44],[177,70,43],[160,60,38],[154,54,37],[166,65,40],[190,90,47],[175,64,39],[177,70,40],[159,55,37],[171,75,42],[181,85,43]]\n",
        "y=['male','female','female','female','male','male','male','female','male','female','male']\n",
        "\n",
        "nigg = tree.DecisionTreeClassifier()\n",
        "nigg = nigg.fit(x,y)\n",
        "print(nigg.predict([[190,70,43]]))"
      ],
      "execution_count": 6,
      "outputs": [
        {
          "output_type": "stream",
          "text": [
            "['male']\n"
          ],
          "name": "stdout"
        }
      ]
    },
    {
      "metadata": {
        "id": "rZ07EJ2Yc7vB",
        "colab_type": "text"
      },
      "cell_type": "markdown",
      "source": [
        "###Using Support Vector Classification(SVC)"
      ]
    },
    {
      "metadata": {
        "id": "MHKeKT0P58dk",
        "colab_type": "code",
        "outputId": "bfd0c1d3-e946-4043-d40d-626afbd5ac20",
        "colab": {
          "base_uri": "https://localhost:8080/",
          "height": 34
        }
      },
      "cell_type": "code",
      "source": [
        "from sklearn import svm\n",
        "x=[[181,80,44],[177,70,43],[160,60,38],[154,54,37],[166,65,40],[190,90,47],[175,64,39],[177,70,40],[159,55,37],[171,75,42],[181,85,43]]\n",
        "y=['male','female','female','female','male','male','male','female','male','female','male']\n",
        "\n",
        "nigg = svm.SVC(kernel='linear',C=1.0)\n",
        "nigg = nigg.fit(x,y)\n",
        "print(nigg.predict([[190,70,43]]))"
      ],
      "execution_count": 7,
      "outputs": [
        {
          "output_type": "stream",
          "text": [
            "['male']\n"
          ],
          "name": "stdout"
        }
      ]
    },
    {
      "metadata": {
        "id": "v4O3avl8dPya",
        "colab_type": "text"
      },
      "cell_type": "markdown",
      "source": [
        "###Using Random Forest Classifier"
      ]
    },
    {
      "metadata": {
        "id": "8UFUXZIjLNfE",
        "colab_type": "code",
        "outputId": "e8133306-06aa-4756-ebd7-ecaf0a2e34d7",
        "colab": {
          "base_uri": "https://localhost:8080/",
          "height": 34
        }
      },
      "cell_type": "code",
      "source": [
        "from sklearn.ensemble import RandomForestClassifier\n",
        "\n",
        "x=[[181,80,44],[177,70,43],[160,60,38],[154,54,37],[166,65,40],[190,90,47],[175,64,39],[177,70,40],[159,55,37],[171,75,42],[181,85,43]]\n",
        "y=['male','female','female','female','male','male','male','female','male','female','male']\n",
        "\n",
        "clf = RandomForestClassifier(n_estimators=2)\n",
        "clf = clf.fit(x,y)\n",
        "print(clf.predict([[190,70,43]]))"
      ],
      "execution_count": 8,
      "outputs": [
        {
          "output_type": "stream",
          "text": [
            "['female']\n"
          ],
          "name": "stdout"
        }
      ]
    },
    {
      "metadata": {
        "id": "-SB3kK5UYkd0",
        "colab_type": "code",
        "colab": {}
      },
      "cell_type": "code",
      "source": [
        ""
      ],
      "execution_count": 0,
      "outputs": []
    }
  ]
}